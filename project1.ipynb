{
 "cells": [
  {
   "cell_type": "code",
   "execution_count": 4,
   "id": "11270401",
   "metadata": {},
   "outputs": [
    {
     "name": "stdout",
     "output_type": "stream",
     "text": [
      "Enter your choice \"encrypt or decrypt\" \n",
      "encrypt\n",
      "Enter your message: \n",
      "hi\n",
      "Enter the key \n",
      "3\n",
      "the encrypted text is:   kl\n"
     ]
    }
   ],
   "source": [
    "# Caesar Code\n",
    "\n",
    "alphabets = ['a','b','c','d','e','f','g','h','i','j','k','l','m','n','o','p','q'\n",
    "            ,'r','s','t','u','v','w','x','y','z']\n",
    "\n",
    "choice = input('Enter your choice \"encrypt or decrypt\" \\n')\n",
    "text = input(\"Enter your message: \\n\")\n",
    "key = int(input(\"Enter the key \\n\"))\n",
    "\n",
    "# Encrypt Function\n",
    "def encrypt(message,shift):\n",
    "    encryptedText = \" \"\n",
    "    for letter in message:\n",
    "        pos = alphabets.index(letter)\n",
    "        newPos = (pos + shift)%26\n",
    "        encryptedText += alphabets[newPos]\n",
    "        \n",
    "    print('the encrypted text is: ', encryptedText)\n",
    "    \n",
    "# Decrypt function\n",
    "\n",
    "def decrypt(message,shift):\n",
    "    decryptedText = \" \"\n",
    "    for letter in message:\n",
    "        pos = alphabets.index(letter)\n",
    "        newPos = (pos - shift)%26\n",
    "        decryptedText += alphabets[newPos]\n",
    "        \n",
    "    print('the decrypted text is: ', decryptedText)\n",
    "    \n",
    "if choice == 'encrypt':\n",
    "    encrypt(text,key)\n",
    "elif choice == 'decrypt':\n",
    "    decrypt(text,key)\n",
    "else:\n",
    "    print('vapas karo')"
   ]
  },
  {
   "cell_type": "code",
   "execution_count": null,
   "id": "9ddd4f58",
   "metadata": {},
   "outputs": [],
   "source": []
  },
  {
   "cell_type": "code",
   "execution_count": null,
   "id": "752eed0d",
   "metadata": {},
   "outputs": [],
   "source": []
  }
 ],
 "metadata": {
  "kernelspec": {
   "display_name": "Python 3 (ipykernel)",
   "language": "python",
   "name": "python3"
  },
  "language_info": {
   "codemirror_mode": {
    "name": "ipython",
    "version": 3
   },
   "file_extension": ".py",
   "mimetype": "text/x-python",
   "name": "python",
   "nbconvert_exporter": "python",
   "pygments_lexer": "ipython3",
   "version": "3.11.7"
  }
 },
 "nbformat": 4,
 "nbformat_minor": 5
}
